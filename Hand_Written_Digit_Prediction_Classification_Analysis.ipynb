{
  "nbformat": 4,
  "nbformat_minor": 0,
  "metadata": {
    "colab": {
      "provenance": []
    },
    "kernelspec": {
      "name": "python3",
      "display_name": "Python 3"
    },
    "language_info": {
      "name": "python"
    }
  },
  "cells": [
    {
      "cell_type": "markdown",
      "source": [
        "# Hand Written Digit Prediction - Classification Analysis"
      ],
      "metadata": {
        "id": "nfzZhySFj1ww"
      }
    },
    {
      "cell_type": "markdown",
      "source": [
        "The digits dataset consists of 8x8 pixel images of digits. The images attribute of the dataset stores 8x8 arrays of grayscale values for each image. We will use these arrays to visualize the first 4 images. The target attribute of the dataset stores the digit each image represents"
      ],
      "metadata": {
        "id": "I_J4PeZCkLv4"
      }
    },
    {
      "cell_type": "markdown",
      "source": [
        "# Import Library"
      ],
      "metadata": {
        "id": "jblRo8RtkHin"
      }
    },
    {
      "cell_type": "code",
      "execution_count": 32,
      "metadata": {
        "id": "Cf7PtsGxhJU4"
      },
      "outputs": [],
      "source": [
        "import pandas as pd\n",
        "import numpy as np\n",
        "import matplotlib.pyplot as plt\n"
      ]
    },
    {
      "cell_type": "markdown",
      "source": [
        "# Import Data"
      ],
      "metadata": {
        "id": "Ogeys5_HhZII"
      }
    },
    {
      "cell_type": "code",
      "source": [
        "\n",
        "from sklearn.datasets import load_digits"
      ],
      "metadata": {
        "id": "9Zx0NhLohNe9"
      },
      "execution_count": 33,
      "outputs": []
    },
    {
      "cell_type": "code",
      "source": [
        "df = load_digits()\n"
      ],
      "metadata": {
        "id": "uWrag8xWdAnI"
      },
      "execution_count": 34,
      "outputs": []
    },
    {
      "cell_type": "code",
      "source": [
        "\n",
        "_,  axes = plt.subplots(nrows=1, ncols=4, figsize=(10, 3))\n",
        "for ax, image, label in zip(axes, df.images, df.target):\n",
        "    ax.set_axis_off()\n",
        "    ax.imshow(image, cmap=plt.cm.gray_r, interpolation=\"nearest\")\n",
        "    ax.set_title(\"Training: %i\" % label)"
      ],
      "metadata": {
        "colab": {
          "base_uri": "https://localhost:8080/",
          "height": 227
        },
        "id": "o8OnFrtTdXkV",
        "outputId": "f408b0cf-a8e6-461d-fc4c-44f8b5a91424"
      },
      "execution_count": 35,
      "outputs": [
        {
          "output_type": "display_data",
          "data": {
            "text/plain": [
              "<Figure size 1000x300 with 4 Axes>"
            ],
            "image/png": "[encoded data removed]"
          },
          "metadata": {}
        }
      ]
    },
    {
      "cell_type": "markdown",
      "source": [
        "# Data Preprocessing"
      ],
      "metadata": {
        "id": "FNkDtKj6hgW4"
      }
    },
    {
      "cell_type": "code",
      "source": [
        "df.images.shape"
      ],
      "metadata": {
        "colab": {
          "base_uri": "https://localhost:8080/"
        },
        "id": "Ah6NabajezD8",
        "outputId": "8672d20a-de54-444d-f463-8c2ec6983d5a"
      },
      "execution_count": 36,
      "outputs": [
        {
          "output_type": "execute_result",
          "data": {
            "text/plain": [
              "(1797, 8, 8)"
            ]
          },
          "metadata": {},
          "execution_count": 36
        }
      ]
    },
    {
      "cell_type": "code",
      "source": [
        "df.images[0]"
      ],
      "metadata": {
        "colab": {
          "base_uri": "https://localhost:8080/"
        },
        "id": "NcQieZzme_Xg",
        "outputId": "f7dc3e6e-2a7b-4678-b265-1548a60f584b"
      },
      "execution_count": 37,
      "outputs": [
        {
          "output_type": "execute_result",
          "data": {
            "text/plain": [
              "array([[ 0.,  0.,  5., 13.,  9.,  1.,  0.,  0.],\n",
              "       [ 0.,  0., 13., 15., 10., 15.,  5.,  0.],\n",
              "       [ 0.,  3., 15.,  2.,  0., 11.,  8.,  0.],\n",
              "       [ 0.,  4., 12.,  0.,  0.,  8.,  8.,  0.],\n",
              "       [ 0.,  5.,  8.,  0.,  0.,  9.,  8.,  0.],\n",
              "       [ 0.,  4., 11.,  0.,  1., 12.,  7.,  0.],\n",
              "       [ 0.,  2., 14.,  5., 10., 12.,  0.,  0.],\n",
              "       [ 0.,  0.,  6., 13., 10.,  0.,  0.,  0.]])"
            ]
          },
          "metadata": {},
          "execution_count": 37
        }
      ]
    },
    {
      "cell_type": "code",
      "source": [
        "df.images[0].shape"
      ],
      "metadata": {
        "colab": {
          "base_uri": "https://localhost:8080/"
        },
        "id": "y3qWVw7FfUJf",
        "outputId": "6eaa9e92-9d29-4e92-feb6-98aeaea94f34"
      },
      "execution_count": 24,
      "outputs": [
        {
          "output_type": "execute_result",
          "data": {
            "text/plain": [
              "(8, 8)"
            ]
          },
          "metadata": {},
          "execution_count": 24
        }
      ]
    },
    {
      "cell_type": "code",
      "source": [
        "len(df.images)"
      ],
      "metadata": {
        "colab": {
          "base_uri": "https://localhost:8080/"
        },
        "id": "VrFNKEvMfC-x",
        "outputId": "0397431b-a2a1-485d-fae2-faed878bbdbf"
      },
      "execution_count": 25,
      "outputs": [
        {
          "output_type": "execute_result",
          "data": {
            "text/plain": [
              "1797"
            ]
          },
          "metadata": {},
          "execution_count": 25
        }
      ]
    },
    {
      "cell_type": "code",
      "source": [
        "n_samples = len(df.images)\n",
        "data = df.images.reshape((n_samples, -1))"
      ],
      "metadata": {
        "id": "oapi_AoXfedJ"
      },
      "execution_count": 26,
      "outputs": []
    },
    {
      "cell_type": "code",
      "source": [
        "data[0]"
      ],
      "metadata": {
        "colab": {
          "base_uri": "https://localhost:8080/"
        },
        "id": "4G4O5fQHfqx5",
        "outputId": "c3b80ce0-8ab7-4201-b97f-f5be2bc1561b"
      },
      "execution_count": 27,
      "outputs": [
        {
          "output_type": "execute_result",
          "data": {
            "text/plain": [
              "array([ 0.,  0.,  5., 13.,  9.,  1.,  0.,  0.,  0.,  0., 13., 15., 10.,\n",
              "       15.,  5.,  0.,  0.,  3., 15.,  2.,  0., 11.,  8.,  0.,  0.,  4.,\n",
              "       12.,  0.,  0.,  8.,  8.,  0.,  0.,  5.,  8.,  0.,  0.,  9.,  8.,\n",
              "        0.,  0.,  4., 11.,  0.,  1., 12.,  7.,  0.,  0.,  2., 14.,  5.,\n",
              "       10., 12.,  0.,  0.,  0.,  0.,  6., 13., 10.,  0.,  0.,  0.])"
            ]
          },
          "metadata": {},
          "execution_count": 27
        }
      ]
    },
    {
      "cell_type": "code",
      "source": [
        "data[0].shape"
      ],
      "metadata": {
        "colab": {
          "base_uri": "https://localhost:8080/"
        },
        "id": "EZ0E7N0Wft4n",
        "outputId": "b409d724-c903-49eb-d296-b1cd9e073603"
      },
      "execution_count": 29,
      "outputs": [
        {
          "output_type": "execute_result",
          "data": {
            "text/plain": [
              "(64,)"
            ]
          },
          "metadata": {},
          "execution_count": 29
        }
      ]
    },
    {
      "cell_type": "code",
      "source": [
        "data.shape"
      ],
      "metadata": {
        "colab": {
          "base_uri": "https://localhost:8080/"
        },
        "id": "FXGSrMldfwQp",
        "outputId": "39847a4f-7e2e-4512-b5e9-90b59ffb5c71"
      },
      "execution_count": 30,
      "outputs": [
        {
          "output_type": "execute_result",
          "data": {
            "text/plain": [
              "(1797, 64)"
            ]
          },
          "metadata": {},
          "execution_count": 30
        }
      ]
    },
    {
      "cell_type": "markdown",
      "source": [
        "# Scaling Image Data"
      ],
      "metadata": {
        "id": "sPnaYUgOhqoo"
      }
    },
    {
      "cell_type": "code",
      "source": [
        "data.min()\n"
      ],
      "metadata": {
        "colab": {
          "base_uri": "https://localhost:8080/"
        },
        "id": "D-q_y2v9f1OU",
        "outputId": "c7d8fbf7-2349-44c4-d0ae-ad0e728c6a35"
      },
      "execution_count": 38,
      "outputs": [
        {
          "output_type": "execute_result",
          "data": {
            "text/plain": [
              "0.0"
            ]
          },
          "metadata": {},
          "execution_count": 38
        }
      ]
    },
    {
      "cell_type": "code",
      "source": [
        "data.max()"
      ],
      "metadata": {
        "colab": {
          "base_uri": "https://localhost:8080/"
        },
        "id": "20t9D1OzgLIH",
        "outputId": "1aae481a-2acf-4376-b483-6b111016d15d"
      },
      "execution_count": 39,
      "outputs": [
        {
          "output_type": "execute_result",
          "data": {
            "text/plain": [
              "16.0"
            ]
          },
          "metadata": {},
          "execution_count": 39
        }
      ]
    },
    {
      "cell_type": "code",
      "source": [
        "data = data/16"
      ],
      "metadata": {
        "id": "XWyDVE2phx0k"
      },
      "execution_count": 40,
      "outputs": []
    },
    {
      "cell_type": "code",
      "source": [
        "data.min()"
      ],
      "metadata": {
        "colab": {
          "base_uri": "https://localhost:8080/"
        },
        "id": "_TF_Bj8-h4X-",
        "outputId": "3ca229fc-0cd2-48b4-e8c3-c31133de42b5"
      },
      "execution_count": 41,
      "outputs": [
        {
          "output_type": "execute_result",
          "data": {
            "text/plain": [
              "0.0"
            ]
          },
          "metadata": {},
          "execution_count": 41
        }
      ]
    },
    {
      "cell_type": "code",
      "source": [
        "data.max()"
      ],
      "metadata": {
        "colab": {
          "base_uri": "https://localhost:8080/"
        },
        "id": "uWYtTQI0h7nt",
        "outputId": "c7a6bd69-be7c-4bd8-b49b-01021e9c0726"
      },
      "execution_count": 42,
      "outputs": [
        {
          "output_type": "execute_result",
          "data": {
            "text/plain": [
              "1.0"
            ]
          },
          "metadata": {},
          "execution_count": 42
        }
      ]
    },
    {
      "cell_type": "code",
      "source": [
        "data[0]"
      ],
      "metadata": {
        "colab": {
          "base_uri": "https://localhost:8080/"
        },
        "id": "qOjiwfd5h9CM",
        "outputId": "2ce54fb7-5fc0-4321-d6cf-34ffb419f7ca"
      },
      "execution_count": 43,
      "outputs": [
        {
          "output_type": "execute_result",
          "data": {
            "text/plain": [
              "array([0.    , 0.    , 0.3125, 0.8125, 0.5625, 0.0625, 0.    , 0.    ,\n",
              "       0.    , 0.    , 0.8125, 0.9375, 0.625 , 0.9375, 0.3125, 0.    ,\n",
              "       0.    , 0.1875, 0.9375, 0.125 , 0.    , 0.6875, 0.5   , 0.    ,\n",
              "       0.    , 0.25  , 0.75  , 0.    , 0.    , 0.5   , 0.5   , 0.    ,\n",
              "       0.    , 0.3125, 0.5   , 0.    , 0.    , 0.5625, 0.5   , 0.    ,\n",
              "       0.    , 0.25  , 0.6875, 0.    , 0.0625, 0.75  , 0.4375, 0.    ,\n",
              "       0.    , 0.125 , 0.875 , 0.3125, 0.625 , 0.75  , 0.    , 0.    ,\n",
              "       0.    , 0.    , 0.375 , 0.8125, 0.625 , 0.    , 0.    , 0.    ])"
            ]
          },
          "metadata": {},
          "execution_count": 43
        }
      ]
    },
    {
      "cell_type": "markdown",
      "source": [
        "# Train Test Split Data"
      ],
      "metadata": {
        "id": "kg3Wi2QjiFUw"
      }
    },
    {
      "cell_type": "code",
      "source": [
        "from sklearn.model_selection import train_test_split\n",
        "X_train, X_test, y_train, y_test = train_test_split(data, df.target, test_size=0.3)\n",
        "X_train.shape, X_test.shape, y_train. shape, y_test.shape\n"
      ],
      "metadata": {
        "colab": {
          "base_uri": "https://localhost:8080/"
        },
        "id": "KIgtH5_Uh_UR",
        "outputId": "0d588e41-f06e-4d9d-ea9d-d2dfcaa6429b"
      },
      "execution_count": 44,
      "outputs": [
        {
          "output_type": "execute_result",
          "data": {
            "text/plain": [
              "((1257, 64), (540, 64), (1257,), (540,))"
            ]
          },
          "metadata": {},
          "execution_count": 44
        }
      ]
    },
    {
      "cell_type": "markdown",
      "source": [
        "# Random Forest Model"
      ],
      "metadata": {
        "id": "4aBWZRQAicvM"
      }
    },
    {
      "cell_type": "code",
      "source": [
        "from sklearn.ensemble import RandomForestClassifier\n",
        "rf =  RandomForestClassifier()\n",
        "rf.fit(X_train, y_train)"
      ],
      "metadata": {
        "colab": {
          "base_uri": "https://localhost:8080/",
          "height": 74
        },
        "id": "H3Uf7on0iZ01",
        "outputId": "4878d394-0e2e-4852-8821-417382a2fe66"
      },
      "execution_count": 45,
      "outputs": [
        {
          "output_type": "execute_result",
          "data": {
            "text/plain": [
              "RandomForestClassifier()"
            ],
            "text/html": [
              "<style>#sk-container-id-1 {color: black;background-color: white;}#sk-container-id-1 pre{padding: 0;}#sk-container-id-1 div.sk-toggleable {background-color: white;}#sk-container-id-1 label.sk-toggleable__label {cursor: pointer;display: block;width: 100%;margin-bottom: 0;padding: 0.3em;box-sizing: border-box;text-align: center;}#sk-container-id-1 label.sk-toggleable__label-arrow:before {content: \"▸\";float: left;margin-right: 0.25em;color: #696969;}#sk-container-id-1 label.sk-toggleable__label-arrow:hover:before {color: black;}#sk-container-id-1 div.sk-estimator:hover label.sk-toggleable__label-arrow:before {color: black;}#sk-container-id-1 div.sk-toggleable__content {max-height: 0;max-width: 0;overflow: hidden;text-align: left;background-color: #f0f8ff;}#sk-container-id-1 div.sk-toggleable__content pre {margin: 0.2em;color: black;border-radius: 0.25em;background-color: #f0f8ff;}#sk-container-id-1 input.sk-toggleable__control:checked~div.sk-toggleable__content {max-height: 200px;max-width: 100%;overflow: auto;}#sk-container-id-1 input.sk-toggleable__control:checked~label.sk-toggleable__label-arrow:before {content: \"▾\";}#sk-container-id-1 div.sk-estimator input.sk-toggleable__control:checked~label.sk-toggleable__label {background-color: #d4ebff;}#sk-container-id-1 div.sk-label input.sk-toggleable__control:checked~label.sk-toggleable__label {background-color: #d4ebff;}#sk-container-id-1 input.sk-hidden--visually {border: 0;clip: rect(1px 1px 1px 1px);clip: rect(1px, 1px, 1px, 1px);height: 1px;margin: -1px;overflow: hidden;padding: 0;position: absolute;width: 1px;}#sk-container-id-1 div.sk-estimator {font-family: monospace;background-color: #f0f8ff;border: 1px dotted black;border-radius: 0.25em;box-sizing: border-box;margin-bottom: 0.5em;}#sk-container-id-1 div.sk-estimator:hover {background-color: #d4ebff;}#sk-container-id-1 div.sk-parallel-item::after {content: \"\";width: 100%;border-bottom: 1px solid gray;flex-grow: 1;}#sk-container-id-1 div.sk-label:hover label.sk-toggleable__label {background-color: #d4ebff;}#sk-container-id-1 div.sk-serial::before {content: \"\";position: absolute;border-left: 1px solid gray;box-sizing: border-box;top: 0;bottom: 0;left: 50%;z-index: 0;}#sk-container-id-1 div.sk-serial {display: flex;flex-direction: column;align-items: center;background-color: white;padding-right: 0.2em;padding-left: 0.2em;position: relative;}#sk-container-id-1 div.sk-item {position: relative;z-index: 1;}#sk-container-id-1 div.sk-parallel {display: flex;align-items: stretch;justify-content: center;background-color: white;position: relative;}#sk-container-id-1 div.sk-item::before, #sk-container-id-1 div.sk-parallel-item::before {content: \"\";position: absolute;border-left: 1px solid gray;box-sizing: border-box;top: 0;bottom: 0;left: 50%;z-index: -1;}#sk-container-id-1 div.sk-parallel-item {display: flex;flex-direction: column;z-index: 1;position: relative;background-color: white;}#sk-container-id-1 div.sk-parallel-item:first-child::after {align-self: flex-end;width: 50%;}#sk-container-id-1 div.sk-parallel-item:last-child::after {align-self: flex-start;width: 50%;}#sk-container-id-1 div.sk-parallel-item:only-child::after {width: 0;}#sk-container-id-1 div.sk-dashed-wrapped {border: 1px dashed gray;margin: 0 0.4em 0.5em 0.4em;box-sizing: border-box;padding-bottom: 0.4em;background-color: white;}#sk-container-id-1 div.sk-label label {font-family: monospace;font-weight: bold;display: inline-block;line-height: 1.2em;}#sk-container-id-1 div.sk-label-container {text-align: center;}#sk-container-id-1 div.sk-container {/* jupyter's `normalize.less` sets `[hidden] { display: none; }` but bootstrap.min.css set `[hidden] { display: none !important; }` so we also need the `!important` here to be able to override the default hidden behavior on the sphinx rendered scikit-learn.org. See: https://github.com/scikit-learn/scikit-learn/issues/21755 */display: inline-block !important;position: relative;}#sk-container-id-1 div.sk-text-repr-fallback {display: none;}</style><div id=\"sk-container-id-1\" class=\"sk-top-container\"><div class=\"sk-text-repr-fallback\"><pre>RandomForestClassifier()</pre><b>In a Jupyter environment, please rerun this cell to show the HTML representation or trust the notebook. <br />On GitHub, the HTML representation is unable to render, please try loading this page with nbviewer.org.</b></div><div class=\"sk-container\" hidden><div class=\"sk-item\"><div class=\"sk-estimator sk-toggleable\"><input class=\"sk-toggleable__control sk-hidden--visually\" id=\"sk-estimator-id-1\" type=\"checkbox\" checked><label for=\"sk-estimator-id-1\" class=\"sk-toggleable__label sk-toggleable__label-arrow\">RandomForestClassifier</label><div class=\"sk-toggleable__content\"><pre>RandomForestClassifier()</pre></div></div></div></div></div>"
            ]
          },
          "metadata": {},
          "execution_count": 45
        }
      ]
    },
    {
      "cell_type": "markdown",
      "source": [
        "# Predict Test Data"
      ],
      "metadata": {
        "id": "xW3CuZF5iyGY"
      }
    },
    {
      "cell_type": "code",
      "source": [
        "y_pred = rf.predict(X_test)\n",
        "y_pred"
      ],
      "metadata": {
        "colab": {
          "base_uri": "https://localhost:8080/"
        },
        "id": "RV1GkMtFirrk",
        "outputId": "5c47ef4d-1ca7-461f-8eeb-4700e2fe2d41"
      },
      "execution_count": 46,
      "outputs": [
        {
          "output_type": "execute_result",
          "data": {
            "text/plain": [
              "array([7, 0, 3, 8, 9, 9, 4, 2, 3, 7, 2, 1, 0, 9, 0, 2, 6, 2, 9, 1, 8, 2,\n",
              "       2, 4, 6, 2, 4, 7, 5, 1, 7, 2, 2, 1, 2, 2, 5, 9, 2, 1, 2, 7, 5, 2,\n",
              "       9, 1, 1, 0, 9, 2, 3, 5, 3, 1, 1, 1, 6, 1, 5, 8, 0, 8, 6, 8, 4, 4,\n",
              "       6, 4, 8, 8, 2, 3, 6, 9, 8, 5, 8, 3, 0, 7, 4, 9, 6, 1, 1, 5, 2, 4,\n",
              "       2, 6, 4, 6, 7, 2, 3, 4, 5, 5, 7, 7, 1, 7, 8, 7, 1, 4, 8, 9, 3, 2,\n",
              "       9, 7, 8, 1, 6, 0, 5, 5, 8, 7, 0, 6, 2, 8, 6, 9, 5, 3, 2, 2, 1, 9,\n",
              "       0, 9, 8, 9, 9, 5, 4, 0, 0, 2, 1, 7, 0, 8, 7, 8, 5, 9, 4, 4, 0, 7,\n",
              "       5, 7, 0, 1, 6, 3, 4, 9, 8, 5, 9, 0, 3, 1, 9, 7, 2, 9, 5, 8, 9, 9,\n",
              "       8, 8, 2, 8, 8, 9, 4, 4, 8, 5, 3, 0, 4, 2, 5, 6, 6, 2, 3, 5, 3, 9,\n",
              "       4, 6, 0, 9, 1, 7, 6, 5, 3, 7, 1, 3, 7, 6, 2, 8, 3, 9, 7, 6, 3, 7,\n",
              "       4, 4, 7, 0, 9, 0, 9, 2, 7, 4, 8, 9, 7, 2, 6, 0, 6, 7, 3, 5, 0, 4,\n",
              "       8, 2, 9, 5, 7, 1, 2, 3, 6, 9, 4, 8, 9, 9, 9, 7, 5, 0, 9, 0, 6, 5,\n",
              "       1, 0, 6, 9, 9, 1, 2, 3, 2, 6, 0, 1, 4, 1, 6, 0, 0, 9, 4, 2, 7, 6,\n",
              "       0, 4, 1, 1, 9, 1, 2, 3, 6, 6, 8, 9, 4, 7, 5, 0, 1, 8, 1, 1, 0, 2,\n",
              "       5, 4, 0, 2, 0, 1, 9, 8, 5, 4, 5, 4, 2, 2, 7, 3, 0, 2, 4, 8, 0, 7,\n",
              "       9, 4, 1, 7, 4, 7, 4, 9, 0, 4, 4, 1, 6, 2, 0, 1, 2, 9, 1, 2, 0, 1,\n",
              "       8, 0, 4, 7, 0, 2, 5, 9, 8, 9, 4, 6, 7, 7, 9, 9, 1, 2, 3, 8, 6, 8,\n",
              "       2, 5, 0, 0, 1, 9, 6, 3, 2, 5, 8, 5, 5, 4, 1, 1, 1, 3, 0, 8, 5, 3,\n",
              "       6, 6, 6, 1, 6, 9, 2, 9, 0, 8, 9, 6, 1, 0, 4, 4, 0, 3, 0, 5, 6, 6,\n",
              "       8, 4, 3, 0, 8, 1, 9, 0, 4, 7, 5, 3, 4, 1, 8, 5, 3, 9, 7, 2, 6, 6,\n",
              "       7, 0, 3, 8, 4, 4, 2, 2, 6, 7, 6, 9, 7, 5, 4, 4, 3, 7, 3, 8, 9, 9,\n",
              "       2, 9, 5, 6, 2, 1, 6, 9, 8, 7, 5, 6, 7, 1, 1, 9, 2, 6, 4, 5, 7, 3,\n",
              "       1, 3, 9, 4, 5, 1, 5, 7, 0, 0, 2, 3, 9, 1, 7, 9, 2, 5, 6, 0, 0, 5,\n",
              "       4, 0, 1, 2, 5, 7, 4, 8, 5, 3, 7, 3, 9, 4, 5, 7, 9, 4, 6, 4, 5, 1,\n",
              "       7, 1, 0, 5, 3, 1, 3, 4, 1, 7, 4, 7])"
            ]
          },
          "metadata": {},
          "execution_count": 46
        }
      ]
    },
    {
      "cell_type": "markdown",
      "source": [
        "# Model Accuracy"
      ],
      "metadata": {
        "id": "l2QjIrIbjAc4"
      }
    },
    {
      "cell_type": "code",
      "source": [
        "from sklearn.metrics import confusion_matrix , classification_report"
      ],
      "metadata": {
        "id": "sbzPklMRi6rP"
      },
      "execution_count": 47,
      "outputs": []
    },
    {
      "cell_type": "code",
      "source": [
        "confusion_matrix(y_test , y_pred)"
      ],
      "metadata": {
        "colab": {
          "base_uri": "https://localhost:8080/"
        },
        "id": "FV9tnCQejQjQ",
        "outputId": "7188f810-21a6-472b-f8a5-60ed969e549a"
      },
      "execution_count": 48,
      "outputs": [
        {
          "output_type": "execute_result",
          "data": {
            "text/plain": [
              "array([[53,  0,  0,  0,  0,  0,  0,  0,  0,  0],\n",
              "       [ 0, 58,  0,  0,  0,  0,  0,  0,  0,  0],\n",
              "       [ 1,  0, 59,  0,  0,  0,  0,  0,  0,  0],\n",
              "       [ 0,  0,  0, 39,  0,  0,  0,  1,  0,  0],\n",
              "       [ 0,  0,  0,  0, 57,  0,  0,  0,  0,  1],\n",
              "       [ 0,  0,  0,  0,  0, 48,  0,  0,  0,  1],\n",
              "       [ 1,  0,  0,  0,  0,  1, 50,  0,  0,  0],\n",
              "       [ 0,  0,  0,  0,  0,  0,  0, 54,  0,  1],\n",
              "       [ 0,  1,  0,  1,  1,  1,  0,  0, 45,  0],\n",
              "       [ 0,  0,  0,  1,  0,  1,  0,  0,  1, 63]])"
            ]
          },
          "metadata": {},
          "execution_count": 48
        }
      ]
    },
    {
      "cell_type": "code",
      "source": [
        "print(classification_report(y_test , y_pred))"
      ],
      "metadata": {
        "colab": {
          "base_uri": "https://localhost:8080/"
        },
        "id": "GBVQ10CujWHP",
        "outputId": "fad883cb-96f4-470a-c395-036c8d2de541"
      },
      "execution_count": 49,
      "outputs": [
        {
          "output_type": "stream",
          "name": "stdout",
          "text": [
            "              precision    recall  f1-score   support\n",
            "\n",
            "           0       0.96      1.00      0.98        53\n",
            "           1       0.98      1.00      0.99        58\n",
            "           2       1.00      0.98      0.99        60\n",
            "           3       0.95      0.97      0.96        40\n",
            "           4       0.98      0.98      0.98        58\n",
            "           5       0.94      0.98      0.96        49\n",
            "           6       1.00      0.96      0.98        52\n",
            "           7       0.98      0.98      0.98        55\n",
            "           8       0.98      0.92      0.95        49\n",
            "           9       0.95      0.95      0.95        66\n",
            "\n",
            "    accuracy                           0.97       540\n",
            "   macro avg       0.97      0.97      0.97       540\n",
            "weighted avg       0.97      0.97      0.97       540\n",
            "\n"
          ]
        }
      ]
    },
    {
      "cell_type": "markdown",
      "source": [
        "# Explaination"
      ],
      "metadata": {
        "id": "kvQrSHD0lTBw"
      }
    },
    {
      "cell_type": "markdown",
      "source": [
        "Project Overview: The Handwritten Digit Prediction project aims to build a machine learning model that accurately predicts handwritten digits (ranging from 0 to 9). Imagine those old-school handwritten zip codes on envelopes—our goal is to teach a computer to recognize them automatically.\n",
        "\n",
        "Here’s a concise breakdown of how it’s done:\n",
        "\n",
        "Data Loading and Exploration:\n",
        "We start by loading a dataset containing images of handwritten digits. Each image is an 8x8 pixel matrix.\n",
        "The dataset we commonly use for this task is the MNIST dataset, a benchmark in the field of image classification.\n",
        "Data Preprocessing:\n",
        "Before feeding the data to our model, we preprocess it. This involves tasks like scaling pixel values (so they’re in a consistent range) and splitting the data into training and testing sets.\n",
        "Model Training:\n",
        "We choose a classification algorithm (such as logistic regression, support vector machines, or neural networks).\n",
        "The model learns from the training data—adjusting its internal parameters to recognize patterns in the images.\n",
        "Evaluation:\n",
        "After training, we evaluate the model’s performance using the testing data.\n",
        "Metrics like accuracy, confusion matrix, and classification reports help us understand how well our model is doing.\n",
        "Prediction:\n",
        "Once trained, our model can predict the digit in new, unseen handwritten images.\n"
      ],
      "metadata": {
        "id": "OLcneXXslwXy"
      }
    },
    {
      "cell_type": "code",
      "source": [],
      "metadata": {
        "id": "pS619SjvjeDq"
      },
      "execution_count": null,
      "outputs": []
    }
  ]
}